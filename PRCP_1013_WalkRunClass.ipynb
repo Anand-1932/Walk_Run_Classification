{
  "nbformat": 4,
  "nbformat_minor": 0,
  "metadata": {
    "colab": {
      "provenance": [],
      "toc_visible": true,
      "include_colab_link": true
    },
    "kernelspec": {
      "name": "python3",
      "display_name": "Python 3"
    },
    "language_info": {
      "name": "python"
    }
  },
  "cells": [
    {
      "cell_type": "markdown",
      "metadata": {
        "id": "view-in-github",
        "colab_type": "text"
      },
      "source": [
        "<a href=\"https://colab.research.google.com/github/Anand-1932/Walk_Run_Classification/blob/main/PRCP_1013_WalkRunClass.ipynb\" target=\"_parent\"><img src=\"https://colab.research.google.com/assets/colab-badge.svg\" alt=\"Open In Colab\"/></a>"
      ]
    },
    {
      "cell_type": "markdown",
      "source": [
        "<h1>CONTENTS<span class=\"tocSkip\"></span></h1>\n",
        "<div class=\"toc\"><ul class=\"toc-item\"><li><span><a href=\"#Business Case\" data-toc-modified-id=\"Business Case-1\"><span class=\"toc-item-num\">1&nbsp;&nbsp;</span>Business Case</a></span></li>\n",
        "<li><span><a href=\"#Domain Analysis\" data-toc-modified-id=\"Domain Analysis-2\"><span class=\"toc-item-num\">2&nbsp;&nbsp;</span>Domain Analysis</a></span></li>\n",
        "<li><span><a href=\"#Importing Libraries\" data-toc-modified-id=\"Importing Libraries-3\"><span class=\"toc-item-num\">3&nbsp;&nbsp;</span>Importing Libraries</a></span></li>\n",
        "<li><span><a href=\"#Loading Dataset\" data-toc-modified-id=\"Loading Dataset-3\"><span class=\"toc-item-num\">4&nbsp;&nbsp;</span>Loading Dataset</a></span></li>\n",
        "<li><span><a href=\"#Basic Checks\" data-toc-modified-id=\"Basic Checks\"><span class=\"toc-item-num\">5&nbsp;&nbsp;</span>Basic Checks</a></span></li>\n",
        "<li><span><a href=\"#Exploratory Data Ananlysis\" data-toc-modified-id=\"#Exploratory Data Ananlysis\"\"><span class=\"toc-item-num\">6&nbsp;&nbsp;</span>Exploratory Data Ananlysis</a></span></li>\n",
        "<li><span><a href=\"#Data Preprocessing\" data-toc-modified-id=\"#Data Preprocessing\"><span class=\"toc-item-num\">7&nbsp;&nbsp;</span>Data Preprocessing</a></span></li>\n",
        "<li><span><a href=\"#Feature Engineering\" data-toc-modified-id=\"Feature Engineering\"><span class=\"toc-item-num\">8&nbsp;&nbsp;</span>Feature Engineering</a></span></li>\n",
        "<li><span><a href=\"#Split Data Into Independent & Dependent Variable\" data-toc-modified-id=\"Split Data Into Independent & Dependent Variable\"><span class=\"toc-item-num\">9&nbsp;&nbsp;</span>Split Data Into Independent & Dependent Variable</a></span></li>\n",
        "<li><span><a href=\"#Model Building\" data-toc-modified-id=\"Model Building><span class=\"toc-item-num\">10&nbsp;&nbsp;</span>Model Building</a></span></li>\n",
        "<li><span><a href=\"#Hyperparameter Tunning\" data-toc-modified-id=\"Hyperparameter Tunning><span class=\"toc-item-num\">11&nbsp;&nbsp;</span>Hyperparameter Tunning</a></span></li>\n",
        "<li><span><a href=\"#Model Selection Baeed on F1 Score\" data-toc-modified-id=\"Model Selection Baeed on F1 Score><span class=\"toc-item-num\">12&nbsp;&nbsp;</span>Model Selection Baeed on F1 Score</a></span></li>\n",
        "<li><span><a href=\"#Visualize Some Prediction\" data-toc-modified-id=\"Visualize Some Prediction><span class=\"toc-item-num\">13&nbsp;&nbsp;</span>Visualize Some Prediction</a></span></li>"
      ],
      "metadata": {
        "id": "17lurtdeQhEd"
      }
    },
    {
      "cell_type": "markdown",
      "source": [
        "# **Business Case:**\n",
        "\n",
        "Wearable devices like smartwatches and fitness trackers collect motion data using accelerometers and gyroscopes. Accurately distinguishing between walking and running is crucial for:\n",
        "\n",
        "1. Fitness Tracking – Accurate calorie burn estimation, step counting, and workout categorization.\n",
        "\n",
        "2. Healthcare & Rehabilitation – Monitoring patient mobility, recovery progress, and fall detection.\n",
        "\n",
        "3. Sports Science – Performance analysis for athletes and injury prevention.\n",
        "\n",
        "4. Smartphone Applications – Enhancing step-tracking accuracy in health apps."
      ],
      "metadata": {
        "id": "2xk7KDwiQg38"
      }
    },
    {
      "cell_type": "markdown",
      "source": [
        "# **Domain Analysis:**\n",
        "\n",
        "* Sensors Used: Accelerometers (measure motion in x, y, z) and Gyroscopes (measure rotation).\n",
        "\n",
        "* Challenges: Noise in sensor data, variations in user movement, and different device placements (e.g., wrist vs. pocket).\n",
        "\n",
        "* Solution: Machine learning models trained on motion data can classify movements accurately, improving health and fitness applications.\n",
        "\n",
        "This dataset contain 11 columns these are mentioned below, we will go through each one of feature to gain insights what is the weights of the column on the label column.\n",
        "\n",
        "\n",
        " 1.  Date\n",
        "        *   Description: These columns store the timestamp of when the data was recorded.\n",
        "\n",
        "        *   Likely irrelevant for distinguishing between walking and running.\n",
        "\n",
        "2.   Time\n",
        "        *   Description: These columns store the timestamp of when the data was recorded.\n",
        "\n",
        "        *   Likely irrelevant for distinguishing between walking and running.\n",
        "\n",
        "        *   Time of day might influence activity patterns, but not directly helpful for classification.\n",
        "\n",
        "3.   ussername\n",
        "        *   Description: The name of the person whose motion data was recorded.\n",
        "\n",
        "        *   Could help if different individuals have distinct movement patterns. However, it might introduce bias, making the model too personalized.\n",
        "\n",
        "4.   wrist\n",
        "        *   Description: Indicates on which wrist the device was worn (0 = Left, 1 = Right).\n",
        "\n",
        "        *   Could affect gyroscope readings, as arm movement varies based on wrist placement.\n",
        "\n",
        "        *   Feature importance analysis suggests low contribution, but keeping it doesn’t hurt.        \n",
        "\n",
        "5.   activity\n",
        "        *   Description: The movement label, where 0 = Walking, 1 = Running.\n",
        "\n",
        "        *   Binary classification problem. Well-balanced dataset (~50% for each class).\n",
        "\n",
        "6.   Accelerometer Data (acceleration_x, acceleration_y, acceleration_z)\n",
        "        *   X-axis → Left-right movement\n",
        "\n",
        "        *   Y-axis → Up-down movement\n",
        "\n",
        "        *   Z-axis → Forward-backward movement\n",
        "\n",
        "        *   Running generally has higher acceleration than walking.\n",
        "\n",
        "        *   Peaks in acceleration_y (vertical motion) could differentiate between slow and fast movement.\n",
        "\n",
        "6.   Gyroscope Data (gyro_x, gyro_y, gyro_z)\n",
        "        *   X-axis → Tilt around left-right\n",
        "        *   Y-axis → Tilt around up-down\n",
        "        *   Z-axis → Tilt around forward-backward\n",
        "\n",
        "        *   Walking has steady, rhythmic rotations, while running causes stronger, sharper rotations.\n",
        "        *   gyro_y may be important, as arm swings differ in walking vs. running."
      ],
      "metadata": {
        "id": "73LfvTVdQgmj"
      }
    },
    {
      "cell_type": "markdown",
      "source": [
        "# **Objectives**\n",
        "The objective of this project is to develop a machine learning model that can accurately classify whether a person is walking or running based on motion sensor data (accelerometer & gyroscope readings).\n",
        "\n",
        "\n",
        "1.  Clean and preprocess raw motion sensor data.\n",
        "\n",
        "2.  Standardize features to improve model performance.\n",
        "\n",
        "3.  Train & Compare Multiple Machine Learning Models\n",
        "\n",
        "4.  Implement Logistic Regression, Random Forest, SVM, KNN, and Neural Networks.\n",
        "\n",
        "5.  Identify the best-performing model using evaluation metrics.\n",
        "\n",
        "6.  Use feature selection and hyperparameter tuning to improve accuracy.\n",
        "\n",
        "7.  Apply techniques like SMOTE (if needed) to handle class imbalance.\n",
        "\n",
        "8.  Analyze feature importance to understand which factors contribute most to classification.\n",
        "\n",
        "9.  Ensure the model is robust and generalizable for real-world scenarios.\n",
        "\n",
        "10.  Develop a prediction pipeline to classify new motion sensor readings.\n",
        "\n",
        "11.  Provide an automated system for activity recognition in wearable devices.\n",
        "\n",
        "\n",
        "\n"
      ],
      "metadata": {
        "id": "UIrhzPDsgdBX"
      }
    },
    {
      "cell_type": "markdown",
      "source": [
        "# **IMPORTING LIBRARIES**"
      ],
      "metadata": {
        "id": "D8tNVL1VcHp2"
      }
    },
    {
      "cell_type": "code",
      "source": [
        "import numpy as np\n",
        "import pandas as pd\n",
        "import matplotlib.pyplot as plt\n",
        "import seaborn as sns\n",
        "import warnings\n",
        "warnings.filterwarnings('ignore')"
      ],
      "metadata": {
        "id": "PEIviRfgQfrQ"
      },
      "execution_count": null,
      "outputs": []
    },
    {
      "cell_type": "code",
      "execution_count": null,
      "metadata": {
        "id": "IImsME0Kc8X8"
      },
      "outputs": [],
      "source": [
        "from sklearn.linear_model import LogisticRegression\n",
        "from sklearn.tree import DecisionTreeClassifier\n",
        "from sklearn.ensemble import RandomForestClassifier\n",
        "from sklearn.svm import SVC\n",
        "from sklearn.neighbors import KNeighborsClassifier\n",
        "from sklearn.neural_network import MLPClassifier"
      ]
    },
    {
      "cell_type": "code",
      "source": [
        "from sklearn.metrics import accuracy_score,confusion_matrix,classification_report,f1_score\n",
        "from sklearn.model_selection import train_test_split\n",
        "from sklearn.preprocessing import StandardScaler\n",
        "from imblearn.over_sampling import SMOTE\n",
        "import pickle"
      ],
      "metadata": {
        "id": "UYYbI911cdm2"
      },
      "execution_count": null,
      "outputs": []
    },
    {
      "cell_type": "markdown",
      "source": [
        "# **LOADING DATASET**"
      ],
      "metadata": {
        "id": "GXEnTcv2c1Wb"
      }
    },
    {
      "cell_type": "code",
      "source": [
        "data = pd.read_csv('/content/walkrun.csv')"
      ],
      "metadata": {
        "id": "vbhvql2DdEr_"
      },
      "execution_count": null,
      "outputs": []
    },
    {
      "cell_type": "code",
      "source": [
        "data.sample(5)"
      ],
      "metadata": {
        "id": "ywyho8qcfWKL"
      },
      "execution_count": null,
      "outputs": []
    },
    {
      "cell_type": "code",
      "source": [
        "data.shape"
      ],
      "metadata": {
        "id": "u2Xa8gwZfXBU"
      },
      "execution_count": null,
      "outputs": []
    },
    {
      "cell_type": "markdown",
      "source": [
        "# **BASIC CHECKS**"
      ],
      "metadata": {
        "id": "WiSfM_mcdGOs"
      }
    },
    {
      "cell_type": "code",
      "source": [
        "data.head()"
      ],
      "metadata": {
        "id": "D1BV2d8ldB12"
      },
      "execution_count": null,
      "outputs": []
    },
    {
      "cell_type": "code",
      "source": [
        "data.tail()"
      ],
      "metadata": {
        "id": "71kMOiqJdKdG"
      },
      "execution_count": null,
      "outputs": []
    },
    {
      "cell_type": "code",
      "source": [
        "data.isnull().sum()"
      ],
      "metadata": {
        "id": "BTE8bmvqdLcU"
      },
      "execution_count": null,
      "outputs": []
    },
    {
      "cell_type": "code",
      "source": [
        "data.info()"
      ],
      "metadata": {
        "id": "hNZva6zXdR5G"
      },
      "execution_count": null,
      "outputs": []
    },
    {
      "cell_type": "code",
      "source": [
        "data.describe()"
      ],
      "metadata": {
        "id": "wAu5KC7tdU1W"
      },
      "execution_count": null,
      "outputs": []
    },
    {
      "cell_type": "code",
      "source": [
        "data.describe(include = 'object')"
      ],
      "metadata": {
        "id": "d8eWmYQFdXkg"
      },
      "execution_count": null,
      "outputs": []
    },
    {
      "cell_type": "markdown",
      "source": [
        "# **EXPLORATORY DATA ANALYSIS (EDA)**"
      ],
      "metadata": {
        "id": "oDPoGWqXeFac"
      }
    },
    {
      "cell_type": "code",
      "source": [
        "data.columns"
      ],
      "metadata": {
        "id": "iRRyntNEd8LQ"
      },
      "execution_count": null,
      "outputs": []
    },
    {
      "cell_type": "code",
      "source": [
        "data['wrist'].value_counts().plot(kind = 'bar')"
      ],
      "metadata": {
        "id": "oR09vCASeOWo"
      },
      "execution_count": null,
      "outputs": []
    },
    {
      "cell_type": "code",
      "source": [
        "data['activity'].value_counts().plot(kind = 'bar')"
      ],
      "metadata": {
        "id": "80DXzv3NeUJG"
      },
      "execution_count": null,
      "outputs": []
    },
    {
      "cell_type": "code",
      "source": [
        "sns.histplot(data['acceleration_x'],kde = True)"
      ],
      "metadata": {
        "id": "4fys-ziUef22"
      },
      "execution_count": null,
      "outputs": []
    },
    {
      "cell_type": "code",
      "source": [
        "sns.histplot(data['acceleration_y'],kde = True)"
      ],
      "metadata": {
        "id": "jg38VPMGe8_b"
      },
      "execution_count": null,
      "outputs": []
    },
    {
      "cell_type": "code",
      "source": [
        "sns.histplot(data['acceleration_z'],kde = True)"
      ],
      "metadata": {
        "id": "tNaLS0RQfEZN"
      },
      "execution_count": null,
      "outputs": []
    },
    {
      "cell_type": "code",
      "source": [
        "sns.histplot(data['gyro_x'],kde = True)"
      ],
      "metadata": {
        "id": "xUvQ8WM2fGLs"
      },
      "execution_count": null,
      "outputs": []
    },
    {
      "cell_type": "code",
      "source": [
        "sns.histplot(data['gyro_y'],kde = True)"
      ],
      "metadata": {
        "id": "ShcuCSPffMIw"
      },
      "execution_count": null,
      "outputs": []
    },
    {
      "cell_type": "code",
      "source": [
        "sns.histplot(data['gyro_z'],kde = True)"
      ],
      "metadata": {
        "id": "y6bDBnADfPsR"
      },
      "execution_count": null,
      "outputs": []
    },
    {
      "cell_type": "code",
      "source": [
        "sns.scatterplot(x = 'acceleration_x',y = 'activity',data = data)"
      ],
      "metadata": {
        "id": "yXbugDnGfQpy"
      },
      "execution_count": null,
      "outputs": []
    },
    {
      "cell_type": "code",
      "source": [
        "plt.figure(figsize=(6, 4))\n",
        "sns.countplot(x=data['wrist'], hue=data['activity'], palette=\"coolwarm\")\n",
        "plt.xlabel(\"Wrist (0 = Left, 1 = Right)\")\n",
        "plt.ylabel(\"Count\")\n",
        "plt.title(\"Distribution of Walking vs Running by Wrist Placement\")\n",
        "plt.legend(title=\"Activity\", labels=[\"Walking (0)\", \"Running (1)\"])\n",
        "plt.show()"
      ],
      "metadata": {
        "id": "s_M2CxAbfXMd"
      },
      "execution_count": null,
      "outputs": []
    },
    {
      "cell_type": "code",
      "source": [
        "data.columns"
      ],
      "metadata": {
        "id": "kPlFdZgcjzz6"
      },
      "execution_count": null,
      "outputs": []
    },
    {
      "cell_type": "code",
      "source": [
        "# Create a boxplot to compare acceleration_x across wrist placements\n",
        "plt.figure(figsize=(6, 4))\n",
        "sns.boxplot(x=data['wrist'], y=data['acceleration_x'], palette=\"coolwarm\")\n",
        "plt.xlabel(\"Wrist (0 = Left, 1 = Right)\")\n",
        "plt.ylabel(\"Acceleration X\")\n",
        "plt.title(\"Comparison of Acceleration X by Wrist Placement\")\n",
        "plt.show()"
      ],
      "metadata": {
        "id": "BaxllqYPkLNC"
      },
      "execution_count": null,
      "outputs": []
    },
    {
      "cell_type": "code",
      "source": [
        "# Create a boxplot to compare acceleration_x across activity types\n",
        "plt.figure(figsize=(6, 4))\n",
        "sns.boxplot(x=data['activity'], y=data['acceleration_x'], palette=\"coolwarm\")\n",
        "plt.xlabel(\"Activity (0 = Walking, 1 = Running)\")\n",
        "plt.ylabel(\"Acceleration X\")\n",
        "plt.title(\"Comparison of Acceleration X by Activity\")\n",
        "plt.show()"
      ],
      "metadata": {
        "id": "G7DqqHvvkdQS"
      },
      "execution_count": null,
      "outputs": []
    },
    {
      "cell_type": "code",
      "source": [
        "# Create a boxplot to compare acceleration_y across activity types\n",
        "plt.figure(figsize=(6, 4))\n",
        "sns.boxplot(x=data['activity'], y=data['acceleration_y'], palette=\"coolwarm\")\n",
        "plt.xlabel(\"Activity (0 = Walking, 1 = Running)\")\n",
        "plt.ylabel(\"Acceleration Y\")\n",
        "plt.title(\"Comparison of Acceleration Y by Activity\")\n",
        "plt.show()"
      ],
      "metadata": {
        "id": "L5KTFGzHk2-M"
      },
      "execution_count": null,
      "outputs": []
    },
    {
      "cell_type": "code",
      "source": [
        "# Create a boxplot to compare acceleration_z across activity types\n",
        "plt.figure(figsize=(6, 4))\n",
        "sns.boxplot(x=data['activity'], y=data['acceleration_z'], palette=\"coolwarm\")\n",
        "plt.xlabel(\"Activity (0 = Walking, 1 = Running)\")\n",
        "plt.ylabel(\"Acceleration Z\")\n",
        "plt.title(\"Comparison of Acceleration Z by Activity\")\n",
        "plt.show()"
      ],
      "metadata": {
        "id": "xDraQ4hllB57"
      },
      "execution_count": null,
      "outputs": []
    },
    {
      "cell_type": "code",
      "source": [
        "# Create a boxplot to compare gyro_x across activity types\n",
        "plt.figure(figsize=(6, 4))\n",
        "sns.boxplot(x=data['activity'], y=data['gyro_x'], palette=\"coolwarm\")\n",
        "plt.xlabel(\"Activity (0 = Walking, 1 = Running)\")\n",
        "plt.ylabel(\"Gyro X\")\n",
        "plt.title(\"Comparison of Gyro X by Activity\")\n",
        "plt.show()"
      ],
      "metadata": {
        "id": "PMoYxwS9lJHQ"
      },
      "execution_count": null,
      "outputs": []
    },
    {
      "cell_type": "code",
      "source": [
        "# Create a boxplot to compare gyro_y across activity types\n",
        "plt.figure(figsize=(6, 4))\n",
        "sns.boxplot(x=data['activity'], y=data['gyro_y'], palette=\"coolwarm\")\n",
        "plt.xlabel(\"Activity (0 = Walking, 1 = Running)\")\n",
        "plt.ylabel(\"Gyro Y\")\n",
        "plt.title(\"Comparison of Gyro Y by Activity\")\n",
        "plt.show()"
      ],
      "metadata": {
        "id": "S496UYNelV2U"
      },
      "execution_count": null,
      "outputs": []
    },
    {
      "cell_type": "code",
      "source": [
        "# Create a boxplot to compare gyro_z across activity types\n",
        "plt.figure(figsize=(6, 4))\n",
        "sns.boxplot(x=data['activity'], y=data['gyro_z'], palette=\"coolwarm\")\n",
        "plt.xlabel(\"Activity (0 = Walking, 1 = Running)\")\n",
        "plt.ylabel(\"Gyro Z\")\n",
        "plt.title(\"Comparison of Gyro Z by Activity\")\n",
        "plt.show()"
      ],
      "metadata": {
        "id": "5ZJyrTZklgDX"
      },
      "execution_count": null,
      "outputs": []
    },
    {
      "cell_type": "markdown",
      "source": [
        "# **DATA PREPROCESSING**"
      ],
      "metadata": {
        "id": "n1gouzL-ococ"
      }
    },
    {
      "cell_type": "code",
      "source": [
        "data.isnull().sum()"
      ],
      "metadata": {
        "id": "IeBVSC0Ulmio"
      },
      "execution_count": null,
      "outputs": []
    },
    {
      "cell_type": "code",
      "source": [
        "# removing null values\n",
        "data.dropna(inplace = True)"
      ],
      "metadata": {
        "id": "r3_jI_KRojSJ"
      },
      "execution_count": null,
      "outputs": []
    },
    {
      "cell_type": "code",
      "source": [
        "data.isnull().sum()"
      ],
      "metadata": {
        "id": "czIiG4e0oyEB"
      },
      "execution_count": null,
      "outputs": []
    },
    {
      "cell_type": "code",
      "source": [
        "data.duplicated().sum()"
      ],
      "metadata": {
        "id": "vb4fZtKQo0mC"
      },
      "execution_count": null,
      "outputs": []
    },
    {
      "cell_type": "code",
      "source": [
        "# checking for outliers\n",
        "plt.figure(figsize=(20,15),facecolor='white')\n",
        "plotnumber = 1\n",
        "\n",
        "for i in data.select_dtypes(include=\"number\").columns:\n",
        "  plotnumber<=14\n",
        "  ax=plt.subplot(6,3,plotnumber)\n",
        "  sns.boxplot(x=data[i])\n",
        "  plt.xlabel(i,fontsize=10)\n",
        "  plt.ylabel('count',fontsize=10)\n",
        "\n",
        "  plotnumber+=1\n",
        "\n",
        "plt.tight_layout()"
      ],
      "metadata": {
        "id": "otdjihClo_Lj"
      },
      "execution_count": null,
      "outputs": []
    },
    {
      "cell_type": "code",
      "source": [
        "# defineing the wisker function which will return lower_wisker(lw) and upper_wisker(uw)\n",
        "def wisker(col):\n",
        "  Q1,Q3=np.percentile(col,[25,75])\n",
        "  IQR=Q3-Q1\n",
        "  lw=Q1-1.5*IQR\n",
        "  uw=Q3+1.5*IQR\n",
        "  return lw,uw"
      ],
      "metadata": {
        "id": "ehQ2jdfqpKQe"
      },
      "execution_count": null,
      "outputs": []
    },
    {
      "cell_type": "code",
      "source": [
        "for i in data[['acceleration_x','acceleration_y','acceleration_z','gyro_x','gyro_y','gyro_z']]:\n",
        "  lw,uw=wisker(data[i])\n",
        "  data[i]=np.where(data[i]<lw,lw,data[i])\n",
        "  data[i]=np.where(data[i]>uw,uw,data[i])"
      ],
      "metadata": {
        "id": "1HnbH2QOpQuW"
      },
      "execution_count": null,
      "outputs": []
    },
    {
      "cell_type": "code",
      "source": [
        "# Rechecking for outliers\n",
        "plt.figure(figsize=(20,15),facecolor='white')\n",
        "plotnumber = 1\n",
        "\n",
        "for i in data.select_dtypes(include=\"number\").columns:\n",
        "  plotnumber<=14\n",
        "  ax=plt.subplot(6,3,plotnumber)\n",
        "  sns.boxplot(x=data[i])\n",
        "  plt.xlabel(i,fontsize=10)\n",
        "  plt.ylabel('count',fontsize=10)\n",
        "\n",
        "  plotnumber+=1\n",
        "\n",
        "plt.tight_layout()"
      ],
      "metadata": {
        "id": "jgDY_sdopuaL"
      },
      "execution_count": null,
      "outputs": []
    },
    {
      "cell_type": "code",
      "source": [
        "# checking correlation between numerical column\n",
        "data.select_dtypes(include='number').corr()"
      ],
      "metadata": {
        "id": "uoRessghp5x1"
      },
      "execution_count": null,
      "outputs": []
    },
    {
      "cell_type": "code",
      "source": [
        "sns.heatmap(data.select_dtypes(include='number').corr(),annot=True)"
      ],
      "metadata": {
        "id": "bzIfBi9QqDoQ"
      },
      "execution_count": null,
      "outputs": []
    },
    {
      "cell_type": "markdown",
      "source": [
        "# **FEATURE ENGINEERING**"
      ],
      "metadata": {
        "id": "qVlgv_rkqNew"
      }
    },
    {
      "cell_type": "code",
      "source": [
        "data.columns"
      ],
      "metadata": {
        "id": "bIHigtElqJwu"
      },
      "execution_count": null,
      "outputs": []
    },
    {
      "cell_type": "code",
      "source": [
        "# dropping date column\n",
        "# it is not important for our prediction\n",
        "data = data.drop(columns = ['date'])"
      ],
      "metadata": {
        "id": "Jexgiubfqos1"
      },
      "execution_count": null,
      "outputs": []
    },
    {
      "cell_type": "code",
      "source": [
        "# dropping time column\n",
        "# it is not important for our prediction\n",
        "data = data.drop(columns = ['time'])"
      ],
      "metadata": {
        "id": "s7f9A8iZtbEE"
      },
      "execution_count": null,
      "outputs": []
    },
    {
      "cell_type": "code",
      "source": [
        "# dropping username column\n",
        "# it is not important for our prediction\n",
        "data = data.drop(columns = ['username'])"
      ],
      "metadata": {
        "id": "-TYH1xJltgyt"
      },
      "execution_count": null,
      "outputs": []
    },
    {
      "cell_type": "code",
      "source": [
        "data.sample(5)"
      ],
      "metadata": {
        "id": "AEEQugo6tlJ4"
      },
      "execution_count": null,
      "outputs": []
    },
    {
      "cell_type": "code",
      "source": [
        "data.shape"
      ],
      "metadata": {
        "id": "n132bLj2tngD"
      },
      "execution_count": null,
      "outputs": []
    },
    {
      "cell_type": "markdown",
      "source": [
        "# **Splitting data in independent and target variable**"
      ],
      "metadata": {
        "id": "BxGBLkDdtzBT"
      }
    },
    {
      "cell_type": "code",
      "source": [
        "x = data.drop(columns = ['activity'])\n",
        "y = data['activity']"
      ],
      "metadata": {
        "id": "_BQNdeLutsUV"
      },
      "execution_count": null,
      "outputs": []
    },
    {
      "cell_type": "code",
      "source": [
        "x"
      ],
      "metadata": {
        "id": "TkzgUBYlt1id"
      },
      "execution_count": null,
      "outputs": []
    },
    {
      "cell_type": "code",
      "source": [
        "x.shape"
      ],
      "metadata": {
        "id": "dCorkiHat35N"
      },
      "execution_count": null,
      "outputs": []
    },
    {
      "cell_type": "code",
      "source": [
        "y.shape"
      ],
      "metadata": {
        "id": "ug0s-9Alt47G"
      },
      "execution_count": null,
      "outputs": []
    },
    {
      "cell_type": "markdown",
      "source": [
        "# Splitting data into testing and training set"
      ],
      "metadata": {
        "id": "M7lSUgdut-0u"
      }
    },
    {
      "cell_type": "code",
      "source": [
        "x_train, x_test, y_train, y_test = train_test_split(x, y, test_size=0.2, random_state=42, stratify=y)"
      ],
      "metadata": {
        "id": "7GWi0f3Yt6vR"
      },
      "execution_count": null,
      "outputs": []
    },
    {
      "cell_type": "code",
      "source": [
        "x_train.shape"
      ],
      "metadata": {
        "id": "ATMo18z5uUEX"
      },
      "execution_count": null,
      "outputs": []
    },
    {
      "cell_type": "code",
      "source": [
        "x_test.shape"
      ],
      "metadata": {
        "id": "s1vRU5g0uXrg"
      },
      "execution_count": null,
      "outputs": []
    },
    {
      "cell_type": "code",
      "source": [
        "y_train.shape"
      ],
      "metadata": {
        "id": "zLNUev5AuY4C"
      },
      "execution_count": null,
      "outputs": []
    },
    {
      "cell_type": "markdown",
      "source": [
        "# **Applying standard scaler to numerical column**"
      ],
      "metadata": {
        "id": "cFlHHrGcuhkM"
      }
    },
    {
      "cell_type": "code",
      "source": [
        "# Initialize StandardScaler (default range is [0,1])\n",
        "scaler = StandardScaler()\n",
        "\n",
        "# Apply scaling and update the DataFrame\n",
        "x_train = scaler.fit_transform(x_train)\n",
        "x_test = scaler.transform(x_test)"
      ],
      "metadata": {
        "id": "xS2v9_vBuap-"
      },
      "execution_count": null,
      "outputs": []
    },
    {
      "cell_type": "code",
      "source": [
        "y.value_counts()"
      ],
      "metadata": {
        "id": "J7bJHCrrvG0E"
      },
      "execution_count": null,
      "outputs": []
    },
    {
      "cell_type": "markdown",
      "source": [
        "# **Applying Smote**\n",
        "\n",
        "Data for training is highly imbalanced i.e., there is huge difference in data points of walking and running so to minimize the difference we will apply smote to the training dataset."
      ],
      "metadata": {
        "id": "WdmLkYaEvQnq"
      }
    },
    {
      "cell_type": "code",
      "source": [
        "# Apply SMOTE on the training data\n",
        "smote = SMOTE(random_state=42)\n",
        "x_train_smote, y_train_smote = smote.fit_resample(x_train, y_train)\n",
        "\n",
        "# Checking the class distribution after SMOTE\n",
        "print(\"Original class distribution:\", y_train.value_counts())\n",
        "print(\"Resampled class distribution:\", y_train_smote.value_counts())"
      ],
      "metadata": {
        "id": "zs_6Gur1upUj"
      },
      "execution_count": null,
      "outputs": []
    },
    {
      "cell_type": "markdown",
      "source": [
        "# **MODEL CREATION**"
      ],
      "metadata": {
        "id": "6nqjPa4GvtZg"
      }
    },
    {
      "cell_type": "markdown",
      "source": [
        "# Logistic Regression"
      ],
      "metadata": {
        "id": "Hd55UAvAwjeb"
      }
    },
    {
      "cell_type": "code",
      "source": [
        "LR = LogisticRegression()\n",
        "LR.fit(x_train_smote,y_train_smote)\n",
        "y_pred = LR.predict(x_test)\n",
        "print(accuracy_score(y_test,y_pred))\n",
        "print(confusion_matrix(y_test,y_pred))\n",
        "print(classification_report(y_test,y_pred))"
      ],
      "metadata": {
        "id": "G5ZTdp_avObv"
      },
      "execution_count": null,
      "outputs": []
    },
    {
      "cell_type": "markdown",
      "source": [
        "# Decision Tree Classifier"
      ],
      "metadata": {
        "id": "Am4JNA94zv3b"
      }
    },
    {
      "cell_type": "code",
      "source": [
        "DT = DecisionTreeClassifier()\n",
        "DT.fit(x_train_smote,y_train_smote)\n",
        "y_pred = DT.predict(x_test)\n",
        "print(accuracy_score(y_test,y_pred))\n",
        "print(confusion_matrix(y_test,y_pred))\n",
        "print(classification_report(y_test,y_pred))"
      ],
      "metadata": {
        "id": "UJUa4ECEwvzj"
      },
      "execution_count": null,
      "outputs": []
    },
    {
      "cell_type": "markdown",
      "source": [
        "# Random Forest Classifier"
      ],
      "metadata": {
        "id": "6SNW1mHszlHs"
      }
    },
    {
      "cell_type": "code",
      "source": [
        "RF = RandomForestClassifier()\n",
        "RF.fit(x_train_smote,y_train_smote)\n",
        "y_pred = RF.predict(x_test)\n",
        "print(accuracy_score(y_test,y_pred))\n",
        "print(confusion_matrix(y_test,y_pred))\n",
        "print(classification_report(y_test,y_pred))"
      ],
      "metadata": {
        "id": "EvH6SVhfwtmh"
      },
      "execution_count": null,
      "outputs": []
    },
    {
      "cell_type": "markdown",
      "source": [
        "# Support Vector Classifier"
      ],
      "metadata": {
        "id": "bmE3wsz-zfGe"
      }
    },
    {
      "cell_type": "code",
      "source": [
        "SVC = SVC()\n",
        "SVC.fit(x_train_smote,y_train_smote)\n",
        "y_pred = SVC.predict(x_test)\n",
        "print(accuracy_score(y_test,y_pred))\n",
        "print(confusion_matrix(y_test,y_pred))\n",
        "print(classification_report(y_test,y_pred))"
      ],
      "metadata": {
        "id": "MpbWRrbixeoT"
      },
      "execution_count": null,
      "outputs": []
    },
    {
      "cell_type": "markdown",
      "source": [
        "# KNeighborsClassifier"
      ],
      "metadata": {
        "id": "G7mTqCiuzYvg"
      }
    },
    {
      "cell_type": "code",
      "source": [
        "KNN = KNeighborsClassifier()\n",
        "KNN.fit(x_train_smote,y_train_smote)\n",
        "y_pred = KNN.predict(x_test)\n",
        "print(accuracy_score(y_test,y_pred))\n",
        "print(confusion_matrix(y_test,y_pred))\n",
        "print(classification_report(y_test,y_pred))"
      ],
      "metadata": {
        "id": "o1VO1Ql5xwa7"
      },
      "execution_count": null,
      "outputs": []
    },
    {
      "cell_type": "markdown",
      "source": [
        "# Multi-Layer Perceptron"
      ],
      "metadata": {
        "id": "ktk30GgvzQFI"
      }
    },
    {
      "cell_type": "code",
      "source": [
        "MLP = MLPClassifier(hidden_layer_sizes=(64, 32), max_iter=500)\n",
        "MLP.fit(x_train_smote,y_train_smote)\n",
        "y_pred = MLP.predict(x_test)\n",
        "print(accuracy_score(y_test,y_pred))\n",
        "print(confusion_matrix(y_test,y_pred))\n",
        "print(classification_report(y_test,y_pred))"
      ],
      "metadata": {
        "id": "1AilejBax_5F"
      },
      "execution_count": null,
      "outputs": []
    },
    {
      "cell_type": "markdown",
      "source": [
        "# **MODEL COMPARISION**\n",
        "\n",
        "*   Algorithms used in this project are LogisticRegression, DecisionTreeClassifier, RandomForestClassifier, SupportVectorMachine, KNeighborsClassifier, Multi-Layer-Perceptron(MLP).\n",
        "\n",
        "*   RandomForestClassifier, SupportVectorMachine, KNeighborsClassifier, Multi-Layer-Perceptron(MLP) have almost same accuracy score near 99.5%.\n",
        "\n",
        "*   SupportVectorMachine has highest accuracy score of 99.58%\n",
        "*   There is no need of performing HyperParameter Tunning since most of the machine learning giving almost best score.\n",
        "\n",
        "\n",
        "*   Logistic Regression has lowest accuracy score of 91%.\n",
        "\n",
        "\n",
        "*   In conclusion, SVM provides the best accuracy score i.e., 99.58%.\n",
        "\n"
      ],
      "metadata": {
        "id": "xH_9fejn0E-P"
      }
    },
    {
      "cell_type": "markdown",
      "source": [
        "# **VISUALIZING PREDICTION WITH MODEL HAVING BEST ACCURACY SCORE**\n",
        "\n",
        "\n",
        "*   Prediction of the new data points using KNeighborsClassifiers\n",
        "\n",
        "\n"
      ],
      "metadata": {
        "id": "x_3BtEkN0Ep0"
      }
    },
    {
      "cell_type": "code",
      "source": [
        "pickle.dump(SVC,open('svc.pkl','wb'))"
      ],
      "metadata": {
        "id": "hL9BpdcX1zRZ"
      },
      "execution_count": null,
      "outputs": []
    },
    {
      "cell_type": "code",
      "source": [
        "\n",
        "import joblib  # For loading the trained model and scaler\n",
        "\n",
        "# Load the trained model and scaler\n",
        "model = joblib.load(\"svc.pkl\")  # Load saved model\n",
        "\n",
        "\n",
        "# Format: [wrist, acceleration_x, acceleration_y, acceleration_z, gyro_x, gyro_y, gyro_z]\n",
        "new_data_point = np.array([[1, 0.5, 0.8, -0.3, 0.01, 0.02, -0.04]])  # Example values\n",
        "\n",
        "# Scaleing the new data points\n",
        "new_data_scaled = scaler.transform(new_data_point)\n",
        "\n",
        "# prediction\n",
        "prediction = model.predict(new_data_scaled)\n",
        "\n",
        "# Result\n",
        "activity = \"Running\" if prediction[0] == 1 else \"Walking\"\n",
        "print(f\"Predicted Activity: {activity}\")"
      ],
      "metadata": {
        "id": "IArC0Wqs0RnL"
      },
      "execution_count": null,
      "outputs": []
    },
    {
      "cell_type": "markdown",
      "source": [
        "# **CHALLENGES FACED**\n",
        "\n",
        "*   Dataset contain irrelevant columns like date, time and username, we dropped these column in order to get better prediction.\n",
        "\n",
        "*   Data is fairly imbalanced to balance the dataset we use SMOTE in order to balance the data, otherwise it will lead us to biased model which will learn better on one class.\n",
        "\n",
        "*   We don't use hyperparameter tunning of SVM otherwise it will be computionally expensive.\n",
        "*   Scaling new data before predictions was crucial but sometimes forgotten, leading to incorrect results.\n",
        "\n",
        "\n",
        "*   Dataset contain large amount of outliers, we handle that outliers we used IQR method to replace that outliers with lower_wisker and upper_wisker.\n",
        "\n",
        "\n",
        "*   Despite these challenges, the model achieved high accuracy (~99.58%), making it a reliable system for activity classification.\n",
        "\n"
      ],
      "metadata": {
        "id": "1gBnqJTx0EgT"
      }
    },
    {
      "cell_type": "markdown",
      "source": [
        "# **CONCLUSION**\n",
        "In conclusion, WalkRun Classification using SVM offers a promising solution for efficient and accuracte classification of weather the person is walking or running. By leveraging the different classification machine learning algorithm, it enables the real time analysis and with accuracy of more than 99.5% it almost predict correct class everytime. The project successfully built a robust and accurate activity classification model. This system can be integrated into wearable devices, fitness applications, and healthcare monitoring systems to track human movement efficiently."
      ],
      "metadata": {
        "id": "qfUACIh10ZUR"
      }
    },
    {
      "cell_type": "markdown",
      "source": [
        "# **FUTURE SCOPE**\n",
        "The model was trained on a specific dataset, which may not generalize well to different environments, terrains, or individuals to overcome this collect data from different users, including various speeds, surfaces (e.g., treadmill, grass, pavement), and conditions to improve generalization.\n",
        "The model currently uses accelerometer and gyroscope data, but additional sensors (e.g., barometer, GPS) could enhance predictions like Incorporate heart rate, stride length, or GPS movement patterns to distinguish between running and fast walking more accurately.\n",
        "The current model is trained offline, but real-time classification in mobile apps or IoT devices requires efficiency to convert the model into a lightweight version using TensorFlow Lite or ONNX for deployment in mobile/wearable devices.\n",
        "Use edge computing to run the model on a smartwatch or smartphone instead of cloud-based predictions.\n",
        "The current model only classifies walking vs. running we can further expand the model to recognize other activities like standing, sitting, jumping, cycling, and stair climbing to create a comprehensive activity recognition system.\n",
        "By implementing these improvements, the model can be made more accurate, generalizable, and real-time capable, enabling its use in health monitoring, sports analytics, and wearable tech applications."
      ],
      "metadata": {
        "id": "ygA4NimT0ZMK"
      }
    },
    {
      "cell_type": "code",
      "source": [],
      "metadata": {
        "id": "PxV01HsqzDpg"
      },
      "execution_count": null,
      "outputs": []
    }
  ]
}